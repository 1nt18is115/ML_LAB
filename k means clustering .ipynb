{
 "cells": [
  {
   "cell_type": "code",
   "execution_count": 68,
   "metadata": {},
   "outputs": [],
   "source": [
    "\n",
    "#K means clustering \n",
    "#k centroids\n",
    "import math"
   ]
  },
  {
   "cell_type": "code",
   "execution_count": 69,
   "metadata": {},
   "outputs": [],
   "source": [
    "points = [[5.9,3.2],\n",
    "          [4.6,2.9],\n",
    "          [6.2,2.8],\n",
    "          [4.7,3.2],\n",
    "          [5.5,4.2],\n",
    "          [5.0,3.0],\n",
    "          [4.9,3.1],\n",
    "          [6.7,3.1],\n",
    "          [5.1,3.8],\n",
    "          [6.0,3.0]\n",
    "    \n",
    "]\n",
    "\n",
    "rc=[6.2,3.2]\n",
    "gc=[6.6,3.7]\n",
    "bc=[6.5,3.0]\n",
    "\n",
    "centroids = [rc,gc,bc]\n",
    "R=[]\n",
    "G=[]\n",
    "B=[]"
   ]
  },
  {
   "cell_type": "code",
   "execution_count": 70,
   "metadata": {},
   "outputs": [],
   "source": [
    "def find_which_centroid(point, centroids):\n",
    "#     return [((point[0] - centroid[0])**2 + (point[1] - centroid[1])**2)**(0.5),\n",
    "    l = []\n",
    "    for centroid in centroids:\n",
    "        l.append([((point[0] - centroid[0])**2 + (point[1] - centroid[1])**2)**(0.5), centroid])\n",
    "    min_centroid_list = l[0]\n",
    "   \n",
    "    # list: [[1, [2,3]], list[0] = [1, [2,3]], list[0][1] = [2,3]\n",
    "    #        [4, [5,6]],\n",
    "    #       ]\n",
    "   \n",
    "    for i in l:\n",
    "        if i[0] < min_centroid_list[0]:\n",
    "            min_centroid_list = i\n",
    "    return min_centroid_list[1]\n",
    "       "
   ]
  },
  {
   "cell_type": "code",
   "execution_count": 71,
   "metadata": {},
   "outputs": [],
   "source": [
    "\n",
    "def cluster_points(points, centroids):\n",
    "    rl = []\n",
    "    gl = []\n",
    "    bl = []\n",
    "    for point in points:\n",
    "        c = find_which_centroid(point, centroids)\n",
    "        if c == centroids[0]:\n",
    "            rl.append(point)\n",
    "        elif c == centroids[1]:\n",
    "            gl.append(point)\n",
    "        else:\n",
    "            bl.append(point)\n",
    "    l = [rl, gl, bl]\n",
    "    return l"
   ]
  },
  {
   "cell_type": "code",
   "execution_count": 72,
   "metadata": {},
   "outputs": [
    {
     "name": "stdout",
     "output_type": "stream",
     "text": [
      "[[5.9, 3.2], [4.6, 2.9], [4.7, 3.2], [5.0, 3.0], [4.9, 3.1], [5.1, 3.8], [6.0, 3.0]]\n",
      "[[5.5, 4.2]]\n",
      "[[6.2, 2.8], [6.7, 3.1]]\n"
     ]
    }
   ],
   "source": [
    "clusters = cluster_points(points, centroids)\n",
    "for cluster in clusters:\n",
    "    print(cluster) \n"
   ]
  },
  {
   "cell_type": "code",
   "execution_count": 73,
   "metadata": {},
   "outputs": [],
   "source": [
    "R=clusters[0]\n",
    "G=clusters[1]\n",
    "B=clusters[2]"
   ]
  },
  {
   "cell_type": "code",
   "execution_count": 74,
   "metadata": {},
   "outputs": [
    {
     "data": {
      "text/plain": [
       "7"
      ]
     },
     "execution_count": 74,
     "metadata": {},
     "output_type": "execute_result"
    }
   ],
   "source": [
    "len(R)"
   ]
  },
  {
   "cell_type": "code",
   "execution_count": 75,
   "metadata": {},
   "outputs": [],
   "source": [
    "def find_avg(lst):\n",
    "    xavg=0\n",
    "    yavg=0\n",
    "    i=lst[0]\n",
    "    for i in lst:\n",
    "        xavg+=i[0]\n",
    "        yavg+=i[1]\n",
    "    xavg/=len(lst)\n",
    "    yavg/=len(lst)\n",
    "    \n",
    "    l=[xavg,yavg]\n",
    "    return l\n",
    "def new_centroids(clusters):\n",
    "    \n",
    "    rlist = clusters[0]\n",
    "    glist = clusters[1]\n",
    "    blist = clusters[2]\n",
    "    \n",
    "    print(\"r list: \", rlist)\n",
    "    print(\"g list: \", glist)\n",
    "    print(\"b list: \", blist)\n",
    "    \n",
    "    rc = find_avg(rlist)\n",
    "    gc = find_avg(glist)\n",
    "    bc = find_avg(blist)\n",
    "    \n",
    "    centroids = [rc, gc, bc]\n",
    "    return centroids"
   ]
  },
  {
   "cell_type": "code",
   "execution_count": null,
   "metadata": {},
   "outputs": [],
   "source": [
    "1st iteratiion"
   ]
  },
  {
   "cell_type": "code",
   "execution_count": 82,
   "metadata": {},
   "outputs": [
    {
     "name": "stdout",
     "output_type": "stream",
     "text": [
      "r list:  [[5.9, 3.2], [4.6, 2.9], [4.7, 3.2], [5.0, 3.0], [4.9, 3.1], [5.1, 3.8], [6.0, 3.0]]\n",
      "g list:  [[5.5, 4.2]]\n",
      "b list:  [[6.2, 2.8], [6.7, 3.1]]\n",
      "[[5.171428571428572, 3.1714285714285713], [5.5, 4.2], [6.45, 2.95]]\n"
     ]
    }
   ],
   "source": [
    "centroids = new_centroids(clusters)\n",
    "print(centroids)"
   ]
  },
  {
   "cell_type": "markdown",
   "metadata": {},
   "source": [
    "2nd iteration"
   ]
  },
  {
   "cell_type": "code",
   "execution_count": 83,
   "metadata": {},
   "outputs": [
    {
     "name": "stdout",
     "output_type": "stream",
     "text": [
      "r list:  [[4.6, 2.9], [4.7, 3.2], [5.0, 3.0], [4.9, 3.1]]\n",
      "g list:  [[5.5, 4.2], [5.1, 3.8]]\n",
      "b list:  [[5.9, 3.2], [6.2, 2.8], [6.7, 3.1], [6.0, 3.0]]\n",
      "[[4.800000000000001, 3.05], [5.3, 4.0], [6.2, 3.025]]\n"
     ]
    }
   ],
   "source": [
    "clusters = cluster_points(points, centroids)\n",
    "centroids = new_centroids(clusters)\n",
    "print(centroids)"
   ]
  },
  {
   "cell_type": "markdown",
   "metadata": {},
   "source": [
    "3rd iteration"
   ]
  },
  {
   "cell_type": "code",
   "execution_count": 84,
   "metadata": {},
   "outputs": [
    {
     "name": "stdout",
     "output_type": "stream",
     "text": [
      "r list:  [[4.6, 2.9], [4.7, 3.2], [5.0, 3.0], [4.9, 3.1]]\n",
      "g list:  [[5.5, 4.2], [5.1, 3.8]]\n",
      "b list:  [[5.9, 3.2], [6.2, 2.8], [6.7, 3.1], [6.0, 3.0]]\n",
      "[[4.800000000000001, 3.05], [5.3, 4.0], [6.2, 3.025]]\n"
     ]
    }
   ],
   "source": [
    "clusters = cluster_points(points, centroids)\n",
    "centroids = new_centroids(clusters)\n",
    "print(centroids)"
   ]
  },
  {
   "cell_type": "markdown",
   "metadata": {},
   "source": [
    "3rd iteration"
   ]
  },
  {
   "cell_type": "code",
   "execution_count": null,
   "metadata": {},
   "outputs": [],
   "source": []
  },
  {
   "cell_type": "code",
   "execution_count": null,
   "metadata": {},
   "outputs": [],
   "source": []
  }
 ],
 "metadata": {
  "kernelspec": {
   "display_name": "Python 3",
   "language": "python",
   "name": "python3"
  },
  "language_info": {
   "codemirror_mode": {
    "name": "ipython",
    "version": 3
   },
   "file_extension": ".py",
   "mimetype": "text/x-python",
   "name": "python",
   "nbconvert_exporter": "python",
   "pygments_lexer": "ipython3",
   "version": "3.6.9"
  }
 },
 "nbformat": 4,
 "nbformat_minor": 2
}
